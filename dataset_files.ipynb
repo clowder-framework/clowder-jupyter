{
 "cells": [
  {
   "cell_type": "code",
   "execution_count": 1,
   "metadata": {},
   "outputs": [],
   "source": [
    "import requests\n",
    "import json"
   ]
  },
  {
   "cell_type": "markdown",
   "metadata": {},
   "source": [
    "## Configuration"
   ]
  },
  {
   "cell_type": "code",
   "execution_count": 2,
   "metadata": {},
   "outputs": [],
   "source": [
    "clowder = 'https://clowder.ncsa.illinois.edu/clowder'\n",
    "key = '78159f40-66b6-4a7a-a8a6-def0625c053f'\n",
    "headers = {'Content-type': 'application/json'}"
   ]
  },
  {
   "cell_type": "markdown",
   "metadata": {},
   "source": [
    "# Dataset"
   ]
  },
  {
   "cell_type": "markdown",
   "metadata": {},
   "source": [
    "### list datasets"
   ]
  },
  {
   "cell_type": "code",
   "execution_count": 3,
   "metadata": {},
   "outputs": [],
   "source": [
    "def list_datasets():\n",
    "    url = \"{}/api/datasets?key={}\".format(clowder, key)\n",
    "    r = requests.get(url)\n",
    "    print(r.status_code)\n",
    "    print(r.text)"
   ]
  },
  {
   "cell_type": "code",
   "execution_count": 4,
   "metadata": {},
   "outputs": [
    {
     "name": "stdout",
     "output_type": "stream",
     "text": [
      "200\n",
      "[{\"id\":\"5c0ff3e15e0ebf3367923401\",\"name\":\"Demo\",\"description\":\"\",\"created\":\"Tue Dec 11 11:29:04 CST 2018\",\"thumbnail\":\"5c0ff3f25e0ebf3367923514\",\"authorId\":\"54b84415621bb34a2f4bed3b\",\"spaces\":[]},{\"id\":\"5c0950265e0e216c9ce3d79d\",\"name\":\"Demo\",\"description\":\"Usual demo file.\",\"created\":\"Thu Dec 06 10:36:54 CST 2018\",\"thumbnail\":\"5c0950605e0e216c9ce3d8b2\",\"authorId\":\"54b84415621bb34a2f4bed3b\",\"spaces\":[]},{\"id\":\"5c085c265e0e216c9ce32ebb\",\"name\":\"Test\",\"description\":\"\",\"created\":\"Wed Dec 05 17:15:50 CST 2018\",\"thumbnail\":\"5c085c2c5e0e216c9ce32fa6\",\"authorId\":\"54b84415621bb34a2f4bed3b\",\"spaces\":[]},{\"id\":\"5c0854375e0e216c9ce326b6\",\"name\":\"Test\",\"description\":\"\",\"created\":\"Wed Dec 05 16:41:59 CST 2018\",\"thumbnail\":\"5c08546a5e0e216c9ce327f0\",\"authorId\":\"54b84415621bb34a2f4bed3b\",\"spaces\":[]},{\"id\":\"5c08502f5e0e552df4b6c079\",\"name\":\"Test\",\"description\":\"\",\"created\":\"Wed Dec 05 16:24:47 CST 2018\",\"thumbnail\":\"5c0850675e0e552df4b6c1e5\",\"authorId\":\"54b84415621bb34a2f4bed3b\",\"spaces\":[]},{\"id\":\"5bd8c02b5e0eb4f89a09deab\",\"name\":\"Test\",\"description\":\"\",\"created\":\"Tue Oct 30 15:33:47 CDT 2018\",\"thumbnail\":\"5bd8c0385e0eb4f89a09df03\",\"authorId\":\"54b84415621bb34a2f4bed3b\",\"spaces\":[]},{\"id\":\"5bbcbddb5e0ef36c52e4f973\",\"name\":\"Test\",\"description\":\"\",\"created\":\"Tue Oct 09 09:40:27 CDT 2018\",\"thumbnail\":\"5bbcbe245e0ef36c52e4fac7\",\"authorId\":\"54b84415621bb34a2f4bed3b\",\"spaces\":[]},{\"id\":\"5ba166dd5e0ea74bd300a2ca\",\"name\":\"test2\",\"description\":\"\",\"created\":\"Tue Sep 18 15:58:05 CDT 2018\",\"thumbnail\":\"5ba166fa5e0ea74bd300a35d\",\"authorId\":\"54b84415621bb34a2f4bed3b\",\"spaces\":[]},{\"id\":\"5ba165cd5e0ea74bd3009b95\",\"name\":\"test1\",\"description\":\"\",\"created\":\"Tue Sep 18 15:53:33 CDT 2018\",\"thumbnail\":\"5ba165e25e0ea74bd3009c1a\",\"authorId\":\"54b84415621bb34a2f4bed3b\",\"spaces\":[]},{\"id\":\"5ba157fc5e0e8690972a0e27\",\"name\":\"test\",\"description\":\"\",\"created\":\"Tue Sep 18 14:54:36 CDT 2018\",\"thumbnail\":\"5ba158b45e0e8690972a0f59\",\"authorId\":\"54b84415621bb34a2f4bed3b\",\"spaces\":[]},{\"id\":\"5b8e96db5e0e8690971ee375\",\"name\":\"Test\",\"description\":\"\",\"created\":\"Tue Sep 04 09:29:47 CDT 2018\",\"thumbnail\":\"5b8e96f25e0e8690971ee447\",\"authorId\":\"54b84415621bb34a2f4bed3b\",\"spaces\":[]},{\"id\":\"5b8de7b45e0e8690971e772e\",\"name\":\"Test\",\"description\":\"\",\"created\":\"Mon Sep 03 21:02:28 CDT 2018\",\"thumbnail\":\"None\",\"authorId\":\"54b84415621bb34a2f4bed3b\",\"spaces\":[]}]\n"
     ]
    }
   ],
   "source": [
    "list_datasets()"
   ]
  },
  {
   "cell_type": "markdown",
   "metadata": {},
   "source": [
    "### create dataset"
   ]
  },
  {
   "cell_type": "code",
   "execution_count": 5,
   "metadata": {},
   "outputs": [],
   "source": [
    "def create_dataset(name, description, access, space, collection):\n",
    "    '''\n",
    "     params: name, description, access: PUBLIC vs PRIVATE, \n",
    "         space: a list of string can be empty,\n",
    "         collection: a list of string, can be empty\n",
    "    '''\n",
    "    url = \"{}/api/datasets/createempty?key={}\".format(clowder, key)\n",
    "    payload = json.dumps({'name':name, \n",
    "                          'description':description,\n",
    "                          'access':access,\n",
    "                          'space':space,\n",
    "                          'collection':collection}) \n",
    "\n",
    "    r = requests.post(url,\n",
    "                     data=payload,\n",
    "                     headers=headers)\n",
    "    print(r.status_code)\n",
    "    print(r.text)"
   ]
  },
  {
   "cell_type": "code",
   "execution_count": 6,
   "metadata": {},
   "outputs": [
    {
     "name": "stdout",
     "output_type": "stream",
     "text": [
      "200\n",
      "{\"id\":\"5c808cee5e0ea3874314c824\"}\n"
     ]
    }
   ],
   "source": [
    "create_dataset(name=\"new dataset\", description=\"...\", access=\"PRIVATE\", \n",
    "               space=['587fc673e4b05039f90f1a0e'],\n",
    "              collection=['5c802b7c5e0ea38743148896'])"
   ]
  },
  {
   "cell_type": "markdown",
   "metadata": {},
   "source": [
    "### edit the description for the dataset"
   ]
  },
  {
   "cell_type": "code",
   "execution_count": 9,
   "metadata": {},
   "outputs": [],
   "source": [
    "def edit_dataset_description(dataset_id, description):\n",
    "    url = \"{}/api/datasets/{}/description?key={}\".format(clowder, dataset_id, key)\n",
    "    payload = json.dumps({'description':description})\n",
    "    \n",
    "    r = requests.put(url,\n",
    "                     data=payload,\n",
    "                     headers=headers)\n",
    "    print(r.status_code)\n",
    "    print(r.text)"
   ]
  },
  {
   "cell_type": "code",
   "execution_count": 10,
   "metadata": {},
   "outputs": [
    {
     "name": "stdout",
     "output_type": "stream",
     "text": [
      "200\n",
      "{\"status\":\"success\"}\n"
     ]
    }
   ],
   "source": [
    "edit_dataset_description('5c0ff3e15e0ebf3367923401', 'new description')"
   ]
  },
  {
   "cell_type": "markdown",
   "metadata": {},
   "source": [
    "### edit the dataset name"
   ]
  },
  {
   "cell_type": "code",
   "execution_count": 11,
   "metadata": {},
   "outputs": [],
   "source": [
    "def edit_dataset_name(dataset_id, name):\n",
    "    url = \"{}/api/datasets/{}/title?key={}\".format(clowder, dataset_id, key)\n",
    "    payload = json.dumps({'name': name})\n",
    "    r = requests.put(url,\n",
    "                     data=payload,\n",
    "                     headers=headers)\n",
    "    print(r.status_code)\n",
    "    print(r.text)"
   ]
  },
  {
   "cell_type": "code",
   "execution_count": 12,
   "metadata": {},
   "outputs": [
    {
     "name": "stdout",
     "output_type": "stream",
     "text": [
      "200\n",
      "{\"status\":\"success\"}\n"
     ]
    }
   ],
   "source": [
    "edit_dataset_name('5c0ff3e15e0ebf3367923401','new name')"
   ]
  },
  {
   "cell_type": "markdown",
   "metadata": {},
   "source": [
    "### add tags to the dataset"
   ]
  },
  {
   "cell_type": "code",
   "execution_count": 13,
   "metadata": {},
   "outputs": [],
   "source": [
    "def add_tags_to_dataset(dataset_id, tags):\n",
    "    url = \"{}/api/datasets/{}/tags?key={}\".format(clowder, dataset_id, key)\n",
    "    payload = json.dumps({'tags':tags})\n",
    "    r = requests.post(url,\n",
    "                     data=payload,\n",
    "                     headers=headers)\n",
    "    print(r.status_code)\n",
    "    print(r.text)"
   ]
  },
  {
   "cell_type": "code",
   "execution_count": 15,
   "metadata": {},
   "outputs": [
    {
     "name": "stdout",
     "output_type": "stream",
     "text": [
      "200\n",
      "{\"status\":\"success\"}\n"
     ]
    }
   ],
   "source": [
    "add_tags_to_dataset('5c0ff3e15e0ebf3367923401',['tag1','tag2','tag3'])"
   ]
  },
  {
   "cell_type": "markdown",
   "metadata": {},
   "source": [
    "### add user metadata to dataset"
   ]
  },
  {
   "cell_type": "code",
   "execution_count": 16,
   "metadata": {},
   "outputs": [],
   "source": [
    "def add_metadata_to_dataset(dataset_id, metadata):\n",
    "    '''\n",
    "        metadata can be any key-value pair\n",
    "        default metadat: Audience, CSDMS Standard Name, Date and Time, Funding Institution, \n",
    "            GeoJSON, Grant Number, ODM2 Variable Name, Primary/Initial Publication, Principal Investigator(s),\n",
    "            References, Related Publications, SAS Spatial Geocode, SAS Variable Name, Time Periods, Unit\n",
    "    '''\n",
    "    url = \"{}/api/datasets/{}/metadata?key={}\".format(clowder, dataset_id, key)\n",
    "    payload = json.dumps(metadata)\n",
    "    r = requests.post('https://socialmediamacroscope.ncsa.illinois.edu/clowder/api/datasets/' + dataset_id +'/metadata',\n",
    "                     data=payload,\n",
    "                     headers=headers)\n",
    "    print(r.status_code)\n",
    "    print(r.text)"
   ]
  },
  {
   "cell_type": "code",
   "execution_count": 17,
   "metadata": {},
   "outputs": [
    {
     "name": "stdout",
     "output_type": "stream",
     "text": [
      "401\n",
      "Not authorized\n"
     ]
    }
   ],
   "source": [
    "add_metadata_to_dataset('5c0ff3e15e0ebf3367923401', {'time':'now','author':'foo','email':'bar@example.com'})"
   ]
  },
  {
   "cell_type": "markdown",
   "metadata": {},
   "source": [
    "### delete dataset (careful!)"
   ]
  },
  {
   "cell_type": "code",
   "execution_count": null,
   "metadata": {},
   "outputs": [],
   "source": [
    "def delete_dtaset(dataset_id):\n",
    "    url = \"{}/api/datasets/{}?key={}\".format(clowder, dataset_id, key)\n",
    "    r = requests.delete(url)\n",
    "    print(r.status_code)\n",
    "    print(r.text)"
   ]
  },
  {
   "cell_type": "code",
   "execution_count": null,
   "metadata": {},
   "outputs": [],
   "source": [
    "delete_dtaset('XXX')"
   ]
  },
  {
   "cell_type": "markdown",
   "metadata": {},
   "source": [
    "# Files"
   ]
  },
  {
   "cell_type": "markdown",
   "metadata": {},
   "source": [
    "### upload files to that dataset (through url)"
   ]
  },
  {
   "cell_type": "code",
   "execution_count": null,
   "metadata": {},
   "outputs": [],
   "source": [
    "def upload_files_to_dataset(dataset_id, url):\n",
    "    payload = json.dumps({'url':url})\n",
    "    r = requests.post('https://socialmediamacroscope.ncsa.illinois.edu/clowder/api/datasets/' + dataset_id + '/urls',\n",
    "                     data=payload,\n",
    "                     headers=headers,\n",
    "                     auth=auth)\n",
    "    print(r.status_code)\n",
    "    print(r.text)"
   ]
  },
  {
   "cell_type": "code",
   "execution_count": null,
   "metadata": {},
   "outputs": [],
   "source": [
    "upload_files_to_dataset(dataset_id = '5a8f37744f0cfe889c135099',\n",
    "                        url = 'http://illinois.edu/assets/img/branding/wordmark_vertical.png')"
   ]
  },
  {
   "cell_type": "markdown",
   "metadata": {},
   "source": [
    "### add tag to a file "
   ]
  },
  {
   "cell_type": "code",
   "execution_count": null,
   "metadata": {},
   "outputs": [],
   "source": [
    "def add_tags_to_file(file_id, tags):\n",
    "    '''\n",
    "    tags has to be a list\n",
    "    '''\n",
    "   \n",
    "    payload = json.dumps({'tags':tags})\n",
    "    headers = {'Content-type': 'application/json', 'accept': 'application/json'}\n",
    "    r = requests.post('https://socialmediamacroscope.ncsa.illinois.edu/clowder/api/files/' + file_id +'/tags',\n",
    "                     data=payload,\n",
    "                     headers=headers,\n",
    "                     auth=auth)\n",
    "    print(r.status_code)\n",
    "    print(r.text)"
   ]
  },
  {
   "cell_type": "code",
   "execution_count": null,
   "metadata": {},
   "outputs": [],
   "source": [
    "add_tags_to_file('5aac3abc4f0cc56d89e141ea',['tag1','tag2','tag3'])"
   ]
  },
  {
   "cell_type": "markdown",
   "metadata": {},
   "source": [
    "### add description to a file"
   ]
  },
  {
   "cell_type": "code",
   "execution_count": null,
   "metadata": {},
   "outputs": [],
   "source": [
    "def add_description_to_file(file_id, description):\n",
    "\n",
    "    payload = json.dumps({'description':description})\n",
    "    r = requests.put('https://socialmediamacroscope.ncsa.illinois.edu/clowder/api/files/' \n",
    "                     + file_id +'/updateDescription',\n",
    "                     data=payload,\n",
    "                     headers=headers,\n",
    "                     auth=auth)\n",
    "    print(r.status_code)\n",
    "    print(r.text)"
   ]
  },
  {
   "cell_type": "code",
   "execution_count": null,
   "metadata": {},
   "outputs": [],
   "source": [
    "add_description_to_file('5aac3abc4f0cc56d89e141ea','lalala')"
   ]
  },
  {
   "cell_type": "markdown",
   "metadata": {},
   "source": [
    "### add metadata to a file"
   ]
  },
  {
   "cell_type": "code",
   "execution_count": null,
   "metadata": {},
   "outputs": [],
   "source": [
    "def add_metadata_to_file(file_id, metadata):\n",
    "    '''\n",
    "     metadata can be any key-value pair.\n",
    "     a few fields that defaulted by clowder: Audience, CSDMS Standard Name, Date and Time, Funding Institution, \n",
    "        GeoJSON, Grant Number, ODM2 Variable Name, Primary/Initial Publication, Principal Investigator(s),\n",
    "        References, Related Publications, SAS Spatial Geocode, SAS Variable Name, Time Periods, Unit\n",
    "    '''\n",
    "    \n",
    "    payload = json.dumps(metadata)\n",
    "    headers = {'Content-type': 'application/json', 'accept': 'application/json'}\n",
    "    r = requests.post('https://socialmediamacroscope.ncsa.illinois.edu/clowder/api/files/' + file_id +'/metadata',\n",
    "                     data=payload,\n",
    "                     headers=headers,\n",
    "                     auth=auth)\n",
    "    print(r.status_code)\n",
    "    print(r.text)"
   ]
  },
  {
   "cell_type": "code",
   "execution_count": null,
   "metadata": {},
   "outputs": [],
   "source": [
    "add_metadata_to_file('5aac3abc4f0cc56d89e141ea', {'Audience':'chen wang','lalal':'lalalala'})"
   ]
  },
  {
   "cell_type": "markdown",
   "metadata": {},
   "source": [
    "### delete files (careful!)"
   ]
  },
  {
   "cell_type": "code",
   "execution_count": null,
   "metadata": {},
   "outputs": [],
   "source": [
    "def delete_file(file_id):\n",
    "    \n",
    "    r = requests.delete('https://socialmediamacroscope.ncsa.illinois.edu/clowder/api/files/'+ file_id, auth=auth)\n",
    "    print(r.status_code)\n",
    "    print(r.text)"
   ]
  },
  {
   "cell_type": "code",
   "execution_count": null,
   "metadata": {},
   "outputs": [],
   "source": [
    "delete_file('5aac3abc4f0cc56d89e141ea')"
   ]
  }
 ],
 "metadata": {
  "kernelspec": {
   "display_name": "Python 3",
   "language": "python",
   "name": "python3"
  },
  "language_info": {
   "codemirror_mode": {
    "name": "ipython",
    "version": 3
   },
   "file_extension": ".py",
   "mimetype": "text/x-python",
   "name": "python",
   "nbconvert_exporter": "python",
   "pygments_lexer": "ipython3",
   "version": "3.7.2"
  }
 },
 "nbformat": 4,
 "nbformat_minor": 2
}
