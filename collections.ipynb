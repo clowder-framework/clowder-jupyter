{
 "cells": [
  {
   "cell_type": "code",
   "execution_count": 4,
   "metadata": {},
   "outputs": [],
   "source": [
    "import requests\n",
    "import json"
   ]
  },
  {
   "cell_type": "markdown",
   "metadata": {},
   "source": [
    "## Configuration\n",
    "Log into the Clowder instance and generate your API key from your Profile page (top right image menu)."
   ]
  },
  {
   "cell_type": "code",
   "execution_count": 5,
   "metadata": {},
   "outputs": [],
   "source": [
    "clowder = 'https://clowder.ncsa.illinois.edu/clowder'\n",
    "key = '78159f40-66b6-4a7a-a8a6-def0625c053f'\n",
    "headers = {'Content-type': 'application/json'}"
   ]
  },
  {
   "cell_type": "markdown",
   "metadata": {},
   "source": [
    "## Dataset Collections"
   ]
  },
  {
   "cell_type": "markdown",
   "metadata": {},
   "source": [
    "### Create Collection"
   ]
  },
  {
   "cell_type": "code",
   "execution_count": 8,
   "metadata": {},
   "outputs": [],
   "source": [
    "def create_collection(name, description='', space_id=''):\n",
    "    '''\n",
    "        param: name, description, spaces id \n",
    "        note: it's different from dataset, dataset can be added to multiple collections and spaces\n",
    "        here collection can only choose ONE space\n",
    "    '''\n",
    "    \n",
    "    url = \"{}/api/collections?key={}\".format(clowder, key)\n",
    "    \n",
    "    print(url)\n",
    "\n",
    "    payload = json.dumps({'name': name,\n",
    "                          'description': description,\n",
    "                          'space': space_id\n",
    "                         })\n",
    "    r = requests.post(url,\n",
    "                     data=payload,\n",
    "                     headers=headers)\n",
    "    print(r.status_code)\n",
    "    print(r.text)"
   ]
  },
  {
   "cell_type": "code",
   "execution_count": 9,
   "metadata": {},
   "outputs": [
    {
     "name": "stdout",
     "output_type": "stream",
     "text": [
      "https://clowder.ncsa.illinois.edu/clowder/api/collections?key=78159f40-66b6-4a7a-a8a6-def0625c053f\n",
      "200\n",
      "{\"id\":\"5c802b7c5e0ea38743148896\"}\n"
     ]
    }
   ],
   "source": [
    "create_collection('Test Collection', 'Testing API.', '587fc673e4b05039f90f1a0e')"
   ]
  },
  {
   "cell_type": "markdown",
   "metadata": {},
   "source": [
    "### List Collections"
   ]
  },
  {
   "cell_type": "code",
   "execution_count": 10,
   "metadata": {},
   "outputs": [],
   "source": [
    "def list_collections():\n",
    "    url = \"{}/api/collections/allCollections?key={}\".format(clowder, key)\n",
    "    r = requests.get(url)\n",
    "    print(r.status_code)\n",
    "    print(r.text)"
   ]
  },
  {
   "cell_type": "code",
   "execution_count": 11,
   "metadata": {},
   "outputs": [
    {
     "name": "stdout",
     "output_type": "stream",
     "text": [
      "200\n",
      "[{\"author\":\"MiniUser(5744cb7ee4b01f66da43dfa9,Brock Angelo,https://www.gravatar.com/avatar/9f2115f8a7428e730f24bb51855b92c1?d=404,Some(jba@illinois.edu))\",\"name\":\"Great Lakes Monitoring\",\"description\":\"The GLM tool seeks to provide easy access to environmental monitoring data collected throughout the Great Lakes. While the primary source for the data is U. S. Environmental Protection Agency’s Great Lakes National Program Office, other federal and state agencies have contributed as well. Along with a variety of sources, there is also a range of environmental parameters to choose from including nutrients, contaminants and physical properties of water.\",\"datasetCount\":\"1\",\"child_collection_ids\":\"List()\",\"id\":\"54e26a95e4b0beb77d24680c\",\"parent_collection_ids\":\"List()\",\"root_flag\":\"true\",\"spaces\":\"List(5744cb6de4b01f66da43df9d)\",\"created\":\"Mon Feb 16 16:09:25 CST 2015\",\"childCollectionsCount\":\"0\"},{\"author\":\"MiniUser(5744cb7ee4b01f66da43dfae,Mario Felarca,,Some(mfelarca@ncsa.illinois.edu))\",\"name\":\"Science Fiction\",\"description\":\"A collection of datasets that contain material related to science fiction.\",\"datasetCount\":\"2\",\"child_collection_ids\":\"List()\",\"id\":\"54e299a4e4b021baf16a1bd9\",\"parent_collection_ids\":\"List()\",\"root_flag\":\"true\",\"spaces\":\"List(5744cb6de4b01f66da43df9d)\",\"created\":\"Mon Feb 16 19:30:12 CST 2015\",\"childCollectionsCount\":\"0\"},{\"author\":\"MiniUser(5744cb7ee4b01f66da43dfa6,Dave M,https://www.gravatar.com/avatar/5d97968a9d32a6567d7d85f9be2edc70?d=404,Some(dmattson@illinois.edu))\",\"name\":\"ICLCS\",\"description\":\"The Institute for Chemistry Literacy through Computational Science was an NSF-funded project at NCSA from 2007-2013.\",\"datasetCount\":\"2\",\"child_collection_ids\":\"List()\",\"id\":\"54e243e5e4b0beb77d2465b6\",\"parent_collection_ids\":\"List()\",\"root_flag\":\"true\",\"spaces\":\"List(5744cb6de4b01f66da43df9d)\",\"created\":\"Mon Feb 16 13:24:21 CST 2015\",\"childCollectionsCount\":\"0\"},{\"author\":\"MiniUser(5744cb7ee4b01f66da43dfa3,Rob Kooper,https://www.gravatar.com/avatar/43a00942406a477b09ad0cf0764b4023?d=404,Some(kooper@illinois.edu))\",\"name\":\"DID-ARQ\",\"description\":\"Digging Into Data ARQ\",\"datasetCount\":\"2\",\"child_collection_ids\":\"List()\",\"id\":\"54e21e24e4b02923e9aa82d0\",\"parent_collection_ids\":\"List()\",\"root_flag\":\"true\",\"spaces\":\"List(5744cb6de4b01f66da43df9d)\",\"created\":\"Mon Feb 16 10:43:16 CST 2015\",\"childCollectionsCount\":\"0\"},{\"author\":\"MiniUser(5744cb7ee4b01f66da43dfab,Mario Felarca,,Some(mfelarca@ncsa.illinois.edu))\",\"name\":\"Aviation\",\"description\":\"Datasets that are focused on aviation related elements.\",\"datasetCount\":\"2\",\"child_collection_ids\":\"List()\",\"id\":\"54e29152e4b021baf16a1a7d\",\"parent_collection_ids\":\"List()\",\"root_flag\":\"true\",\"spaces\":\"List(5744cb6de4b01f66da43df9d)\",\"created\":\"Mon Feb 16 18:54:42 CST 2015\",\"childCollectionsCount\":\"0\"},{\"author\":\"MiniUser(5744cb7ee4b01f66da43dfa5,Liana Diesendruck,,Some(liana@ncsa.illinois.edu))\",\"name\":\"1940 US Census\",\"description\":\"Forms from the 1940 US Census\",\"datasetCount\":\"2\",\"child_collection_ids\":\"List()\",\"id\":\"54e2316ce4b092ddf1e51ca8\",\"parent_collection_ids\":\"List()\",\"root_flag\":\"true\",\"spaces\":\"List(5744cb6de4b01f66da43df9d)\",\"created\":\"Mon Feb 16 12:05:32 CST 2015\",\"childCollectionsCount\":\"0\"},{\"author\":\"MiniUser(5744cb7ee4b01f66da43dfac,Jason Votava,,Some(jvotava@illinois.edu))\",\"name\":\"TESTING SANDBOX\",\"description\":\"Nothing here is forever.\",\"datasetCount\":\"0\",\"child_collection_ids\":\"List()\",\"id\":\"5500a739e4b0bf72f294c2a1\",\"parent_collection_ids\":\"List()\",\"root_flag\":\"true\",\"spaces\":\"List(5744cb6de4b01f66da43df9d)\",\"created\":\"Wed Mar 11 15:36:09 CDT 2015\",\"childCollectionsCount\":\"0\"},{\"author\":\"MiniUser(5744cb7ee4b01f66da43dfa2,Chris Navarro,https://www.gravatar.com/avatar/fa2b6787ff56e5285a892be808e33e35?d=404,Some(cmnavarr@illinois.edu))\",\"name\":\"Ergo-Shelby County\",\"description\":\"Shelby county testbed datasets for Ergo\",\"datasetCount\":\"1\",\"child_collection_ids\":\"List()\",\"id\":\"54e2660de4b0beb77d2467e4\",\"parent_collection_ids\":\"List()\",\"root_flag\":\"true\",\"spaces\":\"List(5744cb6de4b01f66da43df9d)\",\"created\":\"Mon Feb 16 15:50:05 CST 2015\",\"childCollectionsCount\":\"0\"},{\"author\":\"MiniUser(5634fbac3b950d2297dcd556,David LeBauer,,Some(dlebauer@gmail.com))\",\"name\":\"terraref-test\",\"description\":\"\",\"datasetCount\":\"0\",\"child_collection_ids\":\"List()\",\"id\":\"5634fbc8e4b08282372aafe7\",\"parent_collection_ids\":\"List()\",\"root_flag\":\"true\",\"spaces\":\"List(5744cb6de4b01f66da43df9d)\",\"created\":\"Sat Oct 31 12:35:04 CDT 2015\",\"childCollectionsCount\":\"0\"},{\"author\":\"MiniUser(5744cb7ee4b01f66da43dfa4,Marcus Slavenas,,Some(slavenas@illinois.edu))\",\"name\":\"Green Index Extractor\",\"description\":\"Set of images from a single run of the green index extractor.  The extractor takes a starting point and an ending point of a route in latitude and longitude.  It fetches streetview images and a map for the route, runs a green index computer vision routine, and calculates a green index. \",\"datasetCount\":\"1\",\"child_collection_ids\":\"List()\",\"id\":\"54e230e7e4b092ddf1e51ca6\",\"parent_collection_ids\":\"List()\",\"root_flag\":\"true\",\"spaces\":\"List(5744cb6de4b01f66da43df9d)\",\"created\":\"Mon Feb 16 12:03:19 CST 2015\",\"childCollectionsCount\":\"0\"},{\"author\":\"MiniUser(5744cb7ee4b01f66da43dfaa,M O,,Some(ondrejce@illinois.edu))\",\"name\":\"Lincoln Papers\",\"description\":\"Project to celebrate Bicentennial celebration of Abraham Lincoln's birth in 2009.\\r\\nOur objective was to integrate heterogeneous data sources in a virtual observatory and provide access to temporal, spatial and contextual dimensions of the underlying large volume of data. The overall project to digitize, store, and make publicly available all Lincoln writings is a joint effort of multiple institutions, including NCSA, the Illinois Historic Preservation Agency, and the Abraham Lincoln Presidential Library and Museum.\",\"datasetCount\":\"2\",\"child_collection_ids\":\"List()\",\"id\":\"54e27667e4b0beb77d246896\",\"parent_collection_ids\":\"List()\",\"root_flag\":\"true\",\"spaces\":\"List(5744cb6de4b01f66da43df9d)\",\"created\":\"Mon Feb 16 16:59:51 CST 2015\",\"childCollectionsCount\":\"0\"},{\"author\":\"MiniUser(5744cb7ee4b01f66da43dfa7,smruti padhy,https://www.gravatar.com/avatar/e9aa120cffec8257e7e364b9826eed3e?d=404,Some(spadhy@illinois.edu))\",\"name\":\"NARA\",\"description\":\"National Archives and Records Administration/National Science Foundation - Innovative Systems and Software: Applications to NARA Research Problems\",\"datasetCount\":\"2\",\"child_collection_ids\":\"List()\",\"id\":\"54e24793e4b0beb77d2465b7\",\"parent_collection_ids\":\"List()\",\"root_flag\":\"true\",\"spaces\":\"List(5744cb6de4b01f66da43df9d)\",\"created\":\"Mon Feb 16 13:40:03 CST 2015\",\"childCollectionsCount\":\"0\"},{\"author\":\"MiniUser(5744cb7ee4b01f66da43dfad,M O,,Some(ondrejce@illinois.edu))\",\"name\":\"TWR 841 - Relationship discovery\",\"description\":\"A framework for relationship discovery consists of modules for automated file system analysis, file content analysis, integration of the results from analyses, storage of metadata and data-driven decision support for discovering relationships among files. \\r\\nThe framework was tested on a collection of electronic records documenting the Torpedo Weapon Retriever (TWR 841). This test collection presents a problem of unknown relationships among files that currently include 784 2D image drawings and 22 CAD models.\",\"datasetCount\":\"3\",\"child_collection_ids\":\"List()\",\"id\":\"54e28a05e4b021baf16a191b\",\"parent_collection_ids\":\"List()\",\"root_flag\":\"true\",\"spaces\":\"List(5744cb6de4b01f66da43df9d)\",\"created\":\"Mon Feb 16 18:23:33 CST 2015\",\"childCollectionsCount\":\"0\"},{\"author\":\"MiniUser(5744cb7ee4b01f66da43dfa8,Sandeep Satheesan,,Some(sandeeps@illinois.edu))\",\"name\":\"VAT (LSVA)\",\"description\":\"Video Analysis Techniques. This is a continuation of the earlier project titled Large Scale Video Analytics.\",\"datasetCount\":\"1\",\"child_collection_ids\":\"List()\",\"id\":\"54e2637ae4b0beb77d2467a6\",\"parent_collection_ids\":\"List()\",\"root_flag\":\"true\",\"spaces\":\"List(5744cb6de4b01f66da43df9d)\",\"created\":\"Mon Feb 16 15:39:06 CST 2015\",\"childCollectionsCount\":\"0\"},{\"author\":\"MiniUser(54b84415621bb34a2f4bed3b,Luigi Marini,https://www.gravatar.com/avatar/ab960f78f4a47f3943636722a262dff2?d=404,Some(lmarini@illinois.edu))\",\"name\":\"Not so private anymore\",\"description\":\"\",\"datasetCount\":\"1\",\"child_collection_ids\":\"List()\",\"id\":\"587fc702e4b05039f90f1a25\",\"parent_collection_ids\":\"List()\",\"root_flag\":\"true\",\"spaces\":\"List(587fc673e4b05039f90f1a0e)\",\"created\":\"Wed Jan 18 13:50:26 CST 2017\",\"childCollectionsCount\":\"0\"},{\"author\":\"MiniUser(54b84415621bb34a2f4bed3b,Luigi Marini,http://www.gravatar.com/avatar/ab960f78f4a47f3943636722a262dff2?d=404,Some(lmarini@illinois.edu))\",\"name\":\"Test Collection\",\"description\":\"Testing API.\",\"datasetCount\":\"0\",\"child_collection_ids\":\"List()\",\"id\":\"5c802b7c5e0ea38743148896\",\"parent_collection_ids\":\"List()\",\"root_flag\":\"true\",\"spaces\":\"List(587fc673e4b05039f90f1a0e)\",\"created\":\"Wed Mar 06 14:20:12 CST 2019\",\"childCollectionsCount\":\"0\"}]\n"
     ]
    }
   ],
   "source": [
    "list_collections()"
   ]
  },
  {
   "cell_type": "markdown",
   "metadata": {},
   "source": [
    "### Add dataset to collection"
   ]
  },
  {
   "cell_type": "code",
   "execution_count": 12,
   "metadata": {},
   "outputs": [],
   "source": [
    "def add_dataset_to_collection(collection_id, dataset_id):\n",
    "    ''' parameters: collection id; dataset id\n",
    "    '''\n",
    "    url = \"{}/api/collections/{}/datasets/{}?key={}\".format(clowder, collection_id, dataset_id, key)\n",
    "    empty_payload = json.dumps({})\n",
    "    r = requests.post(url,\n",
    "                     data=empty_payload,\n",
    "                     headers=headers)\n",
    "    print(r.status_code)\n",
    "    print(r.text)"
   ]
  },
  {
   "cell_type": "code",
   "execution_count": 13,
   "metadata": {},
   "outputs": [
    {
     "name": "stdout",
     "output_type": "stream",
     "text": [
      "200\n",
      "{\"datasetsInCollection\":1}\n"
     ]
    }
   ],
   "source": [
    "add_dataset_to_collection('5c802b7c5e0ea38743148896', '5c0ff3e15e0ebf3367923401')"
   ]
  },
  {
   "cell_type": "code",
   "execution_count": null,
   "metadata": {},
   "outputs": [],
   "source": []
  }
 ],
 "metadata": {
  "kernelspec": {
   "display_name": "Python 3",
   "language": "python",
   "name": "python3"
  },
  "language_info": {
   "codemirror_mode": {
    "name": "ipython",
    "version": 3
   },
   "file_extension": ".py",
   "mimetype": "text/x-python",
   "name": "python",
   "nbconvert_exporter": "python",
   "pygments_lexer": "ipython3",
   "version": "3.7.2"
  }
 },
 "nbformat": 4,
 "nbformat_minor": 2
}
